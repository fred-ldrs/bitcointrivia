{
  "cells": [
    {
      "cell_type": "markdown",
      "metadata": {},
      "source": [
        "# Bitcoin Trivia Kartengenerator\n",
        "Dieses Notebook klont dein Repo, prüft die Dateien und generiert eine PDF mit den Trivia-Karten."
      ]
    },
    {
      "cell_type": "code",
      "execution_count": null,
      "metadata": {},
      "outputs": [],
      "source": [
        "# Komplettlauf: Repo klonen, Abhängigkeiten installieren und PDF generieren",
        "!rm -rf bitcointrivia\n",
        "!git clone https://github.com/fred-ldrs/bitcointrivia.git\n",
        "!pip install reportlab\n",
        "%cd bitcointrivia/tools\n",
        "!ls -l ../doc/lang/\n",
        "!python card_generator.py"
      ]
    }
  ],
  "metadata": {
    "kernelspec": {
      "display_name": "Python 3",
      "language": "python",
      "name": "python3"
    },
    "language_info": {
      "name": "python",
      "version": ""
    }
  },
  "nbformat": 4,
  "nbformat_minor": 5
}
