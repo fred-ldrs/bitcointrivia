{
  "cells": [
    {
      "cell_type": "markdown",
      "metadata": {},
      "source": [
        "# Bitcoin Trivia Kartengenerator\n",
        "Dieses Notebook l\u00e4dt dein Repo, installiert ReportLab und generiert die Karten-PDF."
      ]
    },
    {
      "cell_type": "code",
      "execution_count": null,
      "metadata": {},
      "outputs": [],
      "source": [
        "# Schritt 1: ReportLab installieren\n",
        "!pip install reportlab"
      ]
    },
    {
      "cell_type": "code",
      "execution_count": null,
      "metadata": {},
      "outputs": [],
      "source": [
        "# Schritt 2: Repo klonen\n",
        "!git clone https://github.com/fred-ldrs/bitcointrivia.git"
      ]
    },
    {
      "cell_type": "code",
      "execution_count": null,
      "metadata": {},
      "outputs": [],
      "source": [
        "# Schritt 3: Ins Tool-Verzeichnis wechseln\n",
        "%cd bitcointrivia/tools"
      ]
    },
    {
      "cell_type": "code",
      "execution_count": null,
      "metadata": {},
      "outputs": [],
      "source": [
        "# Schritt 4: Kartengenerator ausf\u00fchren (deutsche Datei)\n",
        "!python card_generator.py"
      ]
    }
  ],
  "metadata": {
    "kernelspec": {
      "display_name": "Python 3",
      "language": "python",
      "name": "python3"
    },
    "language_info": {
      "name": "python",
      "version": ""
    }
  },
  "nbformat": 4,
  "nbformat_minor": 5
}