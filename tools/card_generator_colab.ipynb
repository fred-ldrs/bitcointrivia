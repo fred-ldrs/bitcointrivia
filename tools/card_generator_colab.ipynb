{
 "cells": [
  {
   "cell_type": "markdown",
   "metadata": {},
   "source": [
    "# BitcoinTrivia – PDF-Karten Generator\n",
    "Dieses Notebook generiert PDF-Karten aus der deutschen JSON-Datei."
   ]
  },
  {
   "cell_type": "code",
   "execution_count": null,
   "metadata": {},
   "outputs": [],
   "source": [
    "# Repository klonen\n",
    "!git clone https://github.com/fred-ldrs/bitcointrivia.git\n",
    "%cd bitcointrivia"
   ]
  },
  {
   "cell_type": "code",
   "execution_count": null,
   "metadata": {},
   "outputs": [],
   "source": [
    "# Abhängigkeiten installieren\n",
    "!pip install reportlab"
   ]
  },
  {
   "cell_type": "code",
   "execution_count": null,
   "metadata": {},
   "outputs": [],
   "source": [
    "# PDF aus JSON generieren\n",
    "!python3 tools/card_generator.py doc/lang/de.json"
   ]
  },
  {
   "cell_type": "code",
   "execution_count": null,
   "metadata": {},
   "outputs": [],
   "source": [
    "# PDF-Link anzeigen\n",
    "from IPython.display import FileLink\n",
    "FileLink('cards_de.pdf')"
   ]
  }
 ],
 "metadata": {
  "kernelspec": {
   "display_name": "Python 3",
   "language": "python",
   "name": "python3"
  },
  "language_info": {
   "name": "python",
   "version": ""
  }
 },
 "nbformat": 4,
 "nbformat_minor": 5
}   "source": [
    "# Benötigte Pakete installieren\n",
    "!pip install reportlab"
   ]
  },
  {
   "cell_type": "code",
   "execution_count": null,
   "metadata": {},
   "outputs": [],
   "source": [
    "# PDF generieren mit korrektem Pfad zur JSON-Datei\n",
    "!python3 tools/card_generator.py doc/lang/de.json"
   ]
  },
  {
   "cell_type": "code",
   "execution_count": null,
   "metadata": {},
   "outputs": [],
   "source": [
    "# PDF-Datei anzeigen\n",
    "from IPython.display import FileLink\n",
    "FileLink('cards_de.pdf')"
   ]
  }
 ],
 "metadata": {
  "kernelspec": {
   "display_name": "Python 3",
   "language": "python",
   "name": "python3"
  },
  "language_info": {
   "name": "python",
   "version": ""
  }
 },
 "nbformat": 4,
 "nbformat_minor": 5
}  },
  "nbformat": 4,
  "nbformat_minor": 5
}
