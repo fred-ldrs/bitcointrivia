# card_generator_colab.ipynb

# Schritt 1: ReportLab installieren
!pip install reportlab

# Schritt 2: GitHub-Repo klonen (ersetze mit deinem echten Link)
!git clone https://github.com/fred-ldrs/bitcointrivia.git

# Schritt 3: Arbeitsverzeichnis setzen
%cd bitcointrivia/tools

# Schritt 4: PDF generieren (Beispiel mit deutscher Datei)
!python card_generator.py

