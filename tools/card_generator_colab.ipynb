{
  "cells": [
    {
      "cell_type": "markdown",
      "metadata": {},
      "source": [
        "# 📇 BitcoinTrivia – Karten PDF-Generator\n",
        "\n",
        "Dieses Notebook generiert Spielkarten aus der deutschen JSON-Datei (`doc/lang/de.json`)."
      ]
    },
    {
      "cell_type": "code",
      "execution_count": null,
      "metadata": {},
      "outputs": [],
      "source": [
        "# 🔁 GitHub-Repo klonen\n",
        "!git clone https://github.com/fred-ldrs/bitcointrivia.git\n",
        "%cd bitcointrivia"
      ]
    },
    {
      "cell_type": "code",
      "execution_count": null,
      "metadata": {},
      "outputs": [],
      "source": [
        "# 📦 reportlab installieren\n",
        "!pip install reportlab"
      ]
    },
    {
      "cell_type": "code",
      "execution_count": null,
      "metadata": {},
      "outputs": [],
      "source": [
        "# ▶️ PDF generieren\n",
        "!python3 tools/card_generator.py doc/lang/de.json"
      ]
    },
    {
      "cell_type": "code",
      "execution_count": null,
      "metadata": {},
      "outputs": [],
      "source": [
        "# 📥 PDF-Datei verlinken\n",
        "from IPython.display import FileLink\n",
        "FileLink('cards_de.pdf')"
      ]
    }
  ],
  "metadata": {
    "kernelspec": {
      "name": "python3",
      "display_name": "Python 3"
    },
    "language_info": {
      "name": "python",
      "version": ""
    }
  },
  "nbformat": 4,
  "nbformat_minor": 5
}   "source": [
    "# PDF aus JSON generieren\n",
    "!python3 tools/card_generator.py doc/lang/de.json"
   ]
  },
  {
   "cell_type": "code",
   "execution_count": null,
   "metadata": {},
   "outputs": [],
   "source": [
    "# PDF-Link anzeigen\n",
    "from IPython.display import FileLink\n",
    "FileLink('cards_de.pdf')"
   ]
  }
 ],
 "metadata": {
  "kernelspec": {
   "display_name": "Python 3",
   "language": "python",
   "name": "python3"
  },
  "language_info": {
   "name": "python",
   "version": ""
  }
 },
 "nbformat": 4,
 "nbformat_minor": 5
}   "source": [
    "# Benötigte Pakete installieren\n",
    "!pip install reportlab"
   ]
  },
  {
   "cell_type": "code",
   "execution_count": null,
   "metadata": {},
   "outputs": [],
   "source": [
    "# PDF generieren mit korrektem Pfad zur JSON-Datei\n",
    "!python3 tools/card_generator.py doc/lang/de.json"
   ]
  },
  {
   "cell_type": "code",
   "execution_count": null,
   "metadata": {},
   "outputs": [],
   "source": [
    "# PDF-Datei anzeigen\n",
    "from IPython.display import FileLink\n",
    "FileLink('cards_de.pdf')"
   ]
  }
 ],
 "metadata": {
  "kernelspec": {
   "display_name": "Python 3",
   "language": "python",
   "name": "python3"
  },
  "language_info": {
   "name": "python",
   "version": ""
  }
 },
 "nbformat": 4,
 "nbformat_minor": 5
}  },
  "nbformat": 4,
  "nbformat_minor": 5
}
