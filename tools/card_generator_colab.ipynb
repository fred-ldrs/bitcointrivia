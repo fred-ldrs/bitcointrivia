{
  "cells": [
    {
      "cell_type": "markdown",
      "metadata": {},
      "source": [
        "# Bitcoin Trivia Kartengenerator\n",
        "Dieses Notebook l\u00e4dt dein Repo, pr\u00fcft die Dateien und generiert eine PDF mit Karten."
      ]
    },
    {
      "cell_type": "code",
      "execution_count": null,
      "metadata": {},
      "outputs": [],
      "source": [
        "# Schritt 1: Aufr\u00e4umen \u2013 vorheriges Repo l\u00f6schen, falls vorhanden",
        "!rm -rf bitcointrivia"
      ]
    },
    {
      "cell_type": "code",
      "execution_count": null,
      "metadata": {},
      "outputs": [],
      "source": [
        "# Schritt 2: Repo klonen",
        "!git clone https://github.com/fred-ldrs/bitcointrivia.git"
      ]
    },
    {
      "cell_type": "code",
      "execution_count": null,
      "metadata": {},
      "outputs": [],
      "source": [
        "# Schritt 3: Ins tools-Verzeichnis wechseln",
        "%cd bitcointrivia/tools"
      ]
    },
    {
      "cell_type": "code",
      "execution_count": null,
      "metadata": {},
      "outputs": [],
      "source": [
        "# Schritt 4: ReportLab installieren",
        "!pip install reportlab"
      ]
    },
    {
      "cell_type": "code",
      "execution_count": null,
      "metadata": {},
      "outputs": [],
      "source": [
        "# Schritt 5: Pr\u00fcfen, ob Sprachdatei vorhanden ist",
        "!ls -l ../doc/lang/"
      ]
    },
    {
      "cell_type": "code",
      "execution_count": null,
      "metadata": {},
      "outputs": [],
      "source": [
        "# Schritt 6: PDF generieren",
        "!python card_generator.py"
      ]
    }
  ],
  "metadata": {
    "kernelspec": {
      "display_name": "Python 3",
      "language": "python",
      "name": "python3"
    },
    "language_info": {
      "name": "python",
      "version": ""
    }
  },
  "nbformat": 4,
  "nbformat_minor": 5
}